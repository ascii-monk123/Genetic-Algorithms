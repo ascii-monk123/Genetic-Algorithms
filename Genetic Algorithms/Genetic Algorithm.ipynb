{
 "cells": [
  {
   "cell_type": "code",
   "execution_count": 23,
   "id": "3c9b95f1-5ff3-418c-9f0c-9c94a8fb3cf9",
   "metadata": {},
   "outputs": [],
   "source": [
    "import numpy as np\n",
    "from numpy.random import randint\n",
    "from numpy.random import rand"
   ]
  },
  {
   "cell_type": "markdown",
   "id": "bc122a63-fb05-4943-8a45-063f5a0a7c65",
   "metadata": {},
   "source": [
    "<h2>Tournament seletion function</h2>"
   ]
  },
  {
   "cell_type": "code",
   "execution_count": 12,
   "id": "712efbdd-6788-45df-a5eb-ac1467f870bf",
   "metadata": {},
   "outputs": [],
   "source": [
    "def tourney_selection(pop, scores, k=3):\n",
    "    #select one individual randomly\n",
    "    selection_idx = randint(len(pop))\n",
    "    #choose k-1 random members\n",
    "    for idx in randint(0, len(pop), k-1):\n",
    "        if scores[idx] > scores[selection_idx]:\n",
    "            selection_idx = idx\n",
    "    #return the tournament winner\n",
    "    return pop[selection_idx]\n",
    "        \n",
    "    "
   ]
  },
  {
   "cell_type": "markdown",
   "id": "d0aa3980-865a-4212-8aad-68f210ebb2a7",
   "metadata": {},
   "source": [
    "<h2> Crossover to create new children</h2>"
   ]
  },
  {
   "cell_type": "code",
   "execution_count": 18,
   "id": "737b3834-20b1-4f96-afdd-96a53e1821b6",
   "metadata": {},
   "outputs": [],
   "source": [
    "def crossover(p1, p2, cross):\n",
    "    #make children the copies of parents by default\n",
    "    c1, c2 = p1.copy(), p2.copy()\n",
    "    #random number to decide whether to perform crossover or not\n",
    "    if rand() < cross:\n",
    "        #select a cross over point\n",
    "        c_pt = randint(1, len(p1) - 2)\n",
    "        #crossover\n",
    "        c1 = p1[:c_pt] + p2[c_pt:]\n",
    "        c2 = p2[:c_pt] + p1[c_pt:]\n",
    "\n",
    "    #return the children\n",
    "    return [c1, c2]\n",
    "        \n",
    "        "
   ]
  },
  {
   "cell_type": "markdown",
   "id": "95440300-5406-4c9d-a8e6-b9db08dc3b65",
   "metadata": {},
   "source": [
    "<h2>Mutation Function</h2>"
   ]
  },
  {
   "cell_type": "code",
   "execution_count": 20,
   "id": "98f215e0-dd64-4005-ac31-9492dd30dca2",
   "metadata": {},
   "outputs": [],
   "source": [
    "def mutation(indv, n_mut):\n",
    "    for i in range(len(indv)):\n",
    "        #check whether to mutate or not\n",
    "        if rand() < n_mut:\n",
    "            #flip the bit\n",
    "            indv[i] = 1 - indv[i]\n",
    "    #return the mutated individual\n",
    "    return indv\n",
    "    "
   ]
  },
  {
   "cell_type": "markdown",
   "id": "e779c12e-dae8-4387-9152-1bc55d13fa31",
   "metadata": {},
   "source": [
    "<h2> The genetic algorithm function</h2>"
   ]
  },
  {
   "cell_type": "code",
   "execution_count": 25,
   "id": "5713d83f-f086-4425-aae5-b55ce6a13c1d",
   "metadata": {},
   "outputs": [],
   "source": [
    "def genetic_algorithm(n_pop, n_bits, n_iter, objective_fn, n_cross, n_mut):\n",
    "    #generate a population of random bits\n",
    "    pop = [randint(0, 2, n_bits).tolist() for _ in range(n_pop)]\n",
    "    #keep track of best solution\n",
    "    best, best_eval =  pop[0], objective_fn(pop[0])\n",
    "    #loop through the generations\n",
    "    for gen in range(n_iter):\n",
    "        #calculate the objective scores for the population\n",
    "        scores = [objective_fn(indv) for indv in pop]\n",
    "        #check for the best solution in the current generation\n",
    "        for i in range(n_pop):\n",
    "            if scores[i] > best_eval:\n",
    "                best, best_eval = pop[i], scores[i]\n",
    "                print(\"{}, new best {} = {}\".format(gen,  pop[i], scores[i]))\n",
    "                \n",
    "        #select parents\n",
    "        selected = [tourney_selection(pop, scores) for _ in range(n_pop)]\n",
    "        #create the next generation\n",
    "        children = list()\n",
    "        for i in range(0, n_pop, 2):\n",
    "            #get parent pair\n",
    "            p1, p2 = selected[i], selected[i+1]\n",
    "            #crossover and mutation for children\n",
    "            for child in crossover(p1, p2, n_cross):\n",
    "                #mutation\n",
    "                c = mutation(child, n_mut)\n",
    "                #save for next generation\n",
    "                children.append(c)\n",
    "        #change the population to children\n",
    "        pop = children\n",
    "\n",
    "    #return the best solutions\n",
    "    return [best, best_eval]\n",
    "                \n",
    "        \n",
    "        \n",
    "        "
   ]
  },
  {
   "cell_type": "markdown",
   "id": "67930ab6-8b13-4927-b96c-ff089d6a7048",
   "metadata": {},
   "source": [
    "<h2> The onemax function to calculate number of ones in the binary array</h2>"
   ]
  },
  {
   "cell_type": "code",
   "execution_count": 26,
   "id": "db5706bd-6612-49bf-9270-aac1f326a152",
   "metadata": {},
   "outputs": [],
   "source": [
    "def onemax(arr):\n",
    "    return np.sum(arr)"
   ]
  },
  {
   "cell_type": "code",
   "execution_count": 27,
   "id": "184f3b86-1528-46f4-8964-95e940f5df68",
   "metadata": {},
   "outputs": [
    {
     "name": "stdout",
     "output_type": "stream",
     "text": [
      "Mutation rate is 0.05\n"
     ]
    }
   ],
   "source": [
    "#total number of iterations\n",
    "n_iter = 100\n",
    "#the number of bits in the input binary array\n",
    "n_bits = 20\n",
    "#the population size\n",
    "n_pop = 100\n",
    "#crossover rate\n",
    "n_cross = 0.9\n",
    "#mutation rate\n",
    "n_mut = 1/float(n_bits)\n",
    "\n",
    "print('Mutation rate is {}'.format(n_mut))"
   ]
  },
  {
   "cell_type": "code",
   "execution_count": 28,
   "id": "ac4ac356-3c20-4524-9d85-a719f0f84256",
   "metadata": {},
   "outputs": [
    {
     "name": "stdout",
     "output_type": "stream",
     "text": [
      "0, new best [1, 1, 1, 1, 1, 1, 1, 0, 1, 1, 1, 1, 0, 1, 0, 1, 1, 1, 1, 1] = 17\n",
      "2, new best [1, 1, 1, 0, 1, 1, 1, 1, 1, 1, 1, 1, 1, 1, 1, 1, 1, 1, 0, 1] = 18\n",
      "4, new best [1, 1, 1, 1, 1, 1, 1, 1, 1, 0, 1, 1, 1, 1, 1, 1, 1, 1, 1, 1] = 19\n",
      "5, new best [1, 1, 1, 1, 1, 1, 1, 1, 1, 1, 1, 1, 1, 1, 1, 1, 1, 1, 1, 1] = 20\n",
      "Genetic Algorithm search done!\n",
      "Best solution: [1, 1, 1, 1, 1, 1, 1, 1, 1, 1, 1, 1, 1, 1, 1, 1, 1, 1, 1, 1], Best score: 20\n"
     ]
    }
   ],
   "source": [
    "#genetic algorithm search\n",
    "best, best_score = genetic_algorithm(n_pop, n_bits, n_iter, onemax, n_cross, n_mut)\n",
    "\n",
    "print('Genetic Algorithm search done!')\n",
    "print('Best solution: {}, Best score: {}'.format(best, best_score))"
   ]
  },
  {
   "cell_type": "code",
   "execution_count": null,
   "id": "990f62d0-1ea3-4a2a-92c1-b92a64b324a2",
   "metadata": {},
   "outputs": [],
   "source": []
  }
 ],
 "metadata": {
  "kernelspec": {
   "display_name": "Python 3 (ipykernel)",
   "language": "python",
   "name": "python3"
  },
  "language_info": {
   "codemirror_mode": {
    "name": "ipython",
    "version": 3
   },
   "file_extension": ".py",
   "mimetype": "text/x-python",
   "name": "python",
   "nbconvert_exporter": "python",
   "pygments_lexer": "ipython3",
   "version": "3.12.1"
  }
 },
 "nbformat": 4,
 "nbformat_minor": 5
}
