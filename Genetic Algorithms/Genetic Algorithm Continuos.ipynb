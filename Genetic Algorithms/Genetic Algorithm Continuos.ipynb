{
 "cells": [
  {
   "cell_type": "code",
   "execution_count": 21,
   "id": "fc45dba3-272a-496d-b4f5-574353501d2a",
   "metadata": {},
   "outputs": [
    {
     "ename": "ModuleNotFoundError",
     "evalue": "No module named 'bitstring'",
     "output_type": "error",
     "traceback": [
      "\u001b[0;31m---------------------------------------------------------------------------\u001b[0m",
      "\u001b[0;31mModuleNotFoundError\u001b[0m                       Traceback (most recent call last)",
      "Cell \u001b[0;32mIn[21], line 4\u001b[0m\n\u001b[1;32m      2\u001b[0m \u001b[38;5;28;01mimport\u001b[39;00m \u001b[38;5;21;01mnumpy\u001b[39;00m \u001b[38;5;28;01mas\u001b[39;00m \u001b[38;5;21;01mnp\u001b[39;00m\n\u001b[1;32m      3\u001b[0m \u001b[38;5;28;01mfrom\u001b[39;00m \u001b[38;5;21;01mnumpy\u001b[39;00m\u001b[38;5;21;01m.\u001b[39;00m\u001b[38;5;21;01mrandom\u001b[39;00m \u001b[38;5;28;01mimport\u001b[39;00m randint, rand\n\u001b[0;32m----> 4\u001b[0m \u001b[38;5;28;01mimport\u001b[39;00m \u001b[38;5;21;01mbitstring\u001b[39;00m\n",
      "\u001b[0;31mModuleNotFoundError\u001b[0m: No module named 'bitstring'"
     ]
    }
   ],
   "source": [
    "from utils import tourney_selection, mutation, crossover\n",
    "import numpy as np\n",
    "from numpy.random import randint, rand\n",
    "import bitstring"
   ]
  },
  {
   "cell_type": "code",
   "execution_count": 10,
   "id": "c92f1cd5-41c5-4cd3-93f5-e4633f9b9202",
   "metadata": {},
   "outputs": [],
   "source": [
    "def objective_fn(x):\n",
    "    return x[0]**2 + x[1]**2"
   ]
  },
  {
   "cell_type": "code",
   "execution_count": 22,
   "id": "3d6efd00-05e8-4786-a260-8f576c724c75",
   "metadata": {},
   "outputs": [],
   "source": [
    "#function to decode the bitstrings\n",
    "def decode(bounds, n_bits, bstring):\n",
    "    dec = list()\n",
    "    largest = 2**n_bits\n",
    "    for i in range(len(bounds)):\n",
    "        #extract substring\n",
    "        start, end = i * n_bits, (i * n_bits) + n_bits\n",
    "        #generate a substring of buts\n",
    "        substring = bstring[start:end]\n",
    "        #convert bitstring to string of characters\n",
    "        chars = ''.join([str(s) for s in substring])\n",
    "        #convert string to integer\n",
    "        inte = int(chars, 2)\n",
    "        #scale integer to required range\n",
    "        final_val = bounds[i][0] +  (inte/largest) * (bounds[i][1] -  bounds[i][0])\n",
    "        dec.append(final_val)\n",
    "    #return decoded values\n",
    "    return dec"
   ]
  },
  {
   "cell_type": "code",
   "execution_count": 12,
   "id": "b457a374-938d-4797-a943-458911f34edc",
   "metadata": {},
   "outputs": [],
   "source": [
    "def genetic_algorithm(n_pop, n_bits, n_iter, objective_fn, n_cross, n_mut, bounds):\n",
    "    #generate a population of random bits\n",
    "    pop = [randint(0, 2, n_bits*len(bounds)).tolist() for _ in range(n_pop)]\n",
    "    #keep track of best solution\n",
    "    best, best_eval =  pop[0], objective_fn(pop[0])\n",
    "    #loop through the generations\n",
    "    for gen in range(n_iter):\n",
    "        #decode the population\n",
    "        decoded = [decode(bounds, n_bits, x) for x in pop]\n",
    "        #calculate the objective scores for the population\n",
    "        scores = [objective_fn(indv) for indv in decoded]\n",
    "        #check for the best solution in the current generation\n",
    "        for i in range(n_pop):\n",
    "            if scores[i] > best_eval:\n",
    "                best, best_eval = pop[i], scores[i]\n",
    "                print(\"{}, new best {} = {}\".format(gen,  decoded[i], scores[i]))\n",
    "                \n",
    "        #select parents\n",
    "        selected = [tourney_selection(pop, scores) for _ in range(n_pop)]\n",
    "        #create the next generation\n",
    "        children = list()\n",
    "        for i in range(0, n_pop, 2):\n",
    "            #get parent pair\n",
    "            p1, p2 = selected[i], selected[i+1]\n",
    "            #crossover and mutation for children\n",
    "            for child in crossover(p1, p2, n_cross):\n",
    "                #mutation\n",
    "                c = mutation(child, n_mut)\n",
    "                #save for next generation\n",
    "                children.append(c)\n",
    "        #change the population to children\n",
    "        pop = children\n",
    "\n",
    "    #return the best solutions\n",
    "    return [best, best_eval]\n",
    "                \n",
    "        \n",
    "        \n",
    "        "
   ]
  },
  {
   "cell_type": "code",
   "execution_count": 15,
   "id": "9b905129-2c4d-4607-98eb-6593e6346ec8",
   "metadata": {},
   "outputs": [
    {
     "name": "stdout",
     "output_type": "stream",
     "text": [
      "Mutation rate is 0.03125\n"
     ]
    }
   ],
   "source": [
    "#bounds of the input\n",
    "bounds = [[-5.0, 5.0], [-5.0, 5.0]]\n",
    "#number of bits per input variable\n",
    "n_bits = 16\n",
    "n_iter = 100\n",
    "n_pop = 100\n",
    "n_cross = 0.9\n",
    "#mutation rate\n",
    "n_mut = 1 / float(n_bits*len(bounds))\n",
    "\n",
    "print('Mutation rate is {}'.format(n_mut))"
   ]
  },
  {
   "cell_type": "code",
   "execution_count": 23,
   "id": "499cac98-7ec5-46fb-ae37-26593c2230bc",
   "metadata": {},
   "outputs": [
    {
     "name": "stdout",
     "output_type": "stream",
     "text": [
      "0, new best [-4.87152099609375, 1.497955322265625] = 25.975586962886155\n",
      "0, new best [-2.869110107421875, -4.734649658203125] = 30.64870019443333\n",
      "0, new best [-3.87725830078125, 4.548187255859375] = 35.71913924533874\n",
      "0, new best [4.556427001953125, -4.701690673828125] = 42.86692221648991\n",
      "1, new best [-4.577178955078125, 4.835052490234375] = 44.32829977013171\n",
      "1, new best [4.921417236328125, -4.578399658203125] = 45.18209104426205\n",
      "1, new best [4.868927001953125, -4.701690673828125] = 45.812345342710614\n",
      "2, new best [-4.967193603515625, 4.74456787109375] = 47.18393657822162\n",
      "3, new best [4.921417236328125, -4.94232177734375] = 48.646892164833844\n",
      "3, new best [4.918060302734375, 4.98077392578125] = 48.9954260410741\n",
      "4, new best [4.918060302734375, 4.98199462890625] = 49.007587623782456\n",
      "5, new best [4.919281005859375, 4.99176025390625] = 49.116996047087014\n",
      "6, new best [4.917755126953125, 4.99786376953125] = 49.16295774746686\n",
      "7, new best [4.997406005859375, 4.95269775390625] = 49.503281828947365\n",
      "8, new best [4.997406005859375, 4.955596923828125] = 49.53200765885413\n",
      "9, new best [4.997406005859375, 4.98748779296875] = 49.849101272411644\n",
      "10, new best [4.997406005859375, 4.99664306640625] = 49.940508720465004\n",
      "18, new best [4.997406005859375, 4.99786376953125] = 49.95270904619247\n",
      "21, new best [4.999237060546875, 4.996337890625] = 49.955763504840434\n",
      "22, new best [4.999237060546875, 4.996490478515625] = 49.95728828944266\n",
      "25, new best [4.999847412109375, 4.996185302734375] = 49.96034172363579\n",
      "25, new best [4.999542236328125, 4.996795654296875] = 49.963389383628964\n",
      "27, new best [4.999847412109375, 4.99664306640625] = 49.96491607744247\n",
      "27, new best [4.999847412109375, 4.998321533203125] = 49.98169229365885\n",
      "27, new best [4.998931884765625, 4.99969482421875] = 49.98626832384616\n",
      "29, new best [4.999542236328125, 4.99969482421875] = 49.99237090814859\n",
      "37, new best [4.999847412109375, 4.99969482421875] = 49.99542247969657\n",
      "42, new best [4.999847412109375, 4.999847412109375] = 49.99694828875363\n",
      "Genetic algorithm run done!\n",
      "Best value is: [4.999847412109375, 4.999847412109375], Best score is: 49.99694828875363\n"
     ]
    }
   ],
   "source": [
    "best, best_score = genetic_algorithm(n_pop, n_bits, n_iter, objective_fn, n_cross, n_mut, bounds)\n",
    "print('Genetic algorithm run done!')\n",
    "dec_val = decode(bounds, n_bits, best)\n",
    "print('Best value is: {}, Best score is: {}'.format(dec_val, best_score))\n",
    "      "
   ]
  },
  {
   "cell_type": "code",
   "execution_count": 24,
   "id": "1fe1d1ec-631b-4163-a306-3f04ea76f1ed",
   "metadata": {},
   "outputs": [
    {
     "name": "stdout",
     "output_type": "stream",
     "text": [
      "49.996000079999995\n"
     ]
    }
   ],
   "source": [
    "print(objective_fn([4.9998, 4.9998]))"
   ]
  },
  {
   "cell_type": "code",
   "execution_count": null,
   "id": "111065a6-2634-47f6-9243-a7237b891e68",
   "metadata": {},
   "outputs": [],
   "source": [
    "}"
   ]
  }
 ],
 "metadata": {
  "kernelspec": {
   "display_name": "Python 3 (ipykernel)",
   "language": "python",
   "name": "python3"
  },
  "language_info": {
   "codemirror_mode": {
    "name": "ipython",
    "version": 3
   },
   "file_extension": ".py",
   "mimetype": "text/x-python",
   "name": "python",
   "nbconvert_exporter": "python",
   "pygments_lexer": "ipython3",
   "version": "3.12.1"
  }
 },
 "nbformat": 4,
 "nbformat_minor": 5
}
